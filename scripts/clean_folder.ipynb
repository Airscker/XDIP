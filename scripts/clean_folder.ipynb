{
 "cells": [
  {
   "cell_type": "markdown",
   "metadata": {},
   "source": [
    "## Clean up dataset\n",
    "\n",
    "### Sort All CSV files according to energy columns"
   ]
  },
  {
   "cell_type": "code",
   "execution_count": 5,
   "metadata": {},
   "outputs": [],
   "source": [
    "import os\n",
    "import pandas as pd\n",
    "\n",
    "cleaned_path='./extracted_data'\n",
    "for roots,dirs,files in os.walk(cleaned_path):\n",
    "    for file in files:\n",
    "        if file.endswith('.DS_Store'):\n",
    "            os.remove(os.path.join(roots,file))\n",
    "        # Sort the xy data by energy column\n",
    "        if file.endswith('.csv'):\n",
    "            data=pd.read_csv(os.path.join(roots,file),header=None)\n",
    "            data=data.sort_values(by=0)\n",
    "            data.to_csv(os.path.join(roots,file),index=False)"
   ]
  }
 ],
 "metadata": {
  "kernelspec": {
   "display_name": "Python 3",
   "language": "python",
   "name": "python3"
  },
  "language_info": {
   "codemirror_mode": {
    "name": "ipython",
    "version": 3
   },
   "file_extension": ".py",
   "mimetype": "text/x-python",
   "name": "python",
   "nbconvert_exporter": "python",
   "pygments_lexer": "ipython3",
   "version": "3.9.13"
  }
 },
 "nbformat": 4,
 "nbformat_minor": 2
}
