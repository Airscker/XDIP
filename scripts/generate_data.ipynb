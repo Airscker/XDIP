{
 "cells": [
  {
   "cell_type": "code",
   "execution_count": null,
   "metadata": {},
   "outputs": [],
   "source": [
    "import os\n",
    "import shutil\n",
    "import pickle as pkl\n",
    "import numpy as np\n",
    "import pandas as pd\n",
    "import matplotlib.pyplot as plt\n",
    "import pickle as pkl\n",
    "from scipy.fftpack import fft, fftfreq"
   ]
  },
  {
   "cell_type": "markdown",
   "metadata": {},
   "source": [
    "## Generate data samples for technical validation"
   ]
  },
  {
   "cell_type": "markdown",
   "metadata": {},
   "source": [
    "### Get Fe samples from MP dataset"
   ]
  },
  {
   "cell_type": "code",
   "execution_count": null,
   "metadata": {},
   "outputs": [],
   "source": [
    "source='/Volumes/SSD/XAS_SUM_ADJ_2'\n",
    "val_path='/Users/airskcer/Library/CloudStorage/OneDrive-Personal/StonyBrook/XAS/NSD/Validation'\n",
    "files=os.listdir(source)\n",
    "print(len(files))\n",
    "np.random.shuffle(files)\n",
    "fe=[]\n",
    "XANES=[]\n",
    "EXAFS=[]\n",
    "curve_num=np.random.randint(1,5,50)\n",
    "for i in range(len(files)):\n",
    "    flag=0\n",
    "    if 'Fe' in files[i] and not files[i].startswith('.'):\n",
    "        with open(os.path.join(source,files[i]),'rb')as f:\n",
    "            info=pkl.load(f)\n",
    "            for spec in info[1]:\n",
    "                if str(spec['absorbing_element'])=='Fe' and spec['edge']=='K':\n",
    "                    if spec['spectrum_type']=='XANES' and len(XANES)<np.sum(curve_num):\n",
    "                        XANES.append(spec)\n",
    "                        flag=1\n",
    "                    elif spec['spectrum_type']=='EXAFS' and len(EXAFS)<np.sum(curve_num):\n",
    "                        EXAFS.append(spec)\n",
    "                        flag=1\n",
    "    if flag==1:\n",
    "        fe.append(files[i])\n",
    "# fe=np.random.choice(fe,np.sum(curve_num))\n",
    "print(len(fe),fe)\n",
    "\n",
    "sample_path=f'{val_path}/samples'\n",
    "if os.path.exists(sample_path):\n",
    "    shutil.rmtree(sample_path)\n",
    "os.makedirs(sample_path)\n",
    "plot_path=f'{val_path}/plots'\n",
    "for i in range(len(fe)):\n",
    "    shutil.copy(os.path.join('/Volumes/SSD/XAS_SUM_ADJ_2',fe[i]),os.path.join(sample_path,fe[i]))\n",
    "print(XANES)\n",
    "with open(f'{val_path}/XANES_raw.pkl','wb')as f:\n",
    "    pkl.dump(XANES,f)\n",
    "with open(f'{val_path}/EXAFS_raw.pkl','wb')as f:\n",
    "    pkl.dump(EXAFS,f)\n",
    "np.save(f'{val_path}/curve_num.npy',curve_num)"
   ]
  },
  {
   "cell_type": "markdown",
   "metadata": {},
   "source": [
    "### Generate plots and corresponding raw data"
   ]
  },
  {
   "cell_type": "code",
   "execution_count": null,
   "metadata": {},
   "outputs": [],
   "source": [
    "def energy_to_wavenumber(E):\n",
    "    m_e = 9.10938356e-31  # electron mass in kg\n",
    "    hbar = 1.0545718e-34  # reduced Planck constant in Js\n",
    "    eV_to_J = 1.60218e-19  # conversion factor from eV to Joules\n",
    "    k = np.sqrt(2 * m_e * eV_to_J * (E - np.min(E))) / hbar\n",
    "    return k\n",
    "\n",
    "val_path='../Validation/'\n",
    "with open(f'{val_path}/XANES_raw.pkl','rb')as f:\n",
    "    XANES=pkl.load(f)\n",
    "with open(f'{val_path}/EXAFS_raw.pkl','rb')as f:\n",
    "    EXAFS=pkl.load(f)\n",
    "curve_num=np.load(f'{val_path}/curve_num.npy')\n",
    "def save_plots(data,plot_path,raw_path,fft=False):\n",
    "    if os.path.exists(plot_path):\n",
    "        shutil.rmtree(plot_path)\n",
    "    os.makedirs(plot_path)\n",
    "    if os.path.exists(raw_path):\n",
    "        shutil.rmtree(raw_path)\n",
    "    os.makedirs(raw_path)\n",
    "    line_style_list=['-','--','-.',':']\n",
    "    figsize_list=[(10,6),(8,6),(6,6),(10,8)]\n",
    "    figsizes=np.random.randint(0,len(figsize_list),len(curve_num))\n",
    "    for i in range(len(curve_num)):\n",
    "        raw_data=[]\n",
    "        line_sty=np.random.choice(line_style_list,curve_num[i])\n",
    "        plt.figure(figsize=figsize_list[figsizes[i]])\n",
    "        for j in range(curve_num[i]):\n",
    "            _x=data[j]['spectrum'].x\n",
    "            _y=data[j]['spectrum'].y\n",
    "            if fft:\n",
    "                _x=energy_to_wavenumber(data[j]['spectrum'].x)\n",
    "            plt.plot(_x,_y,linestyle=line_sty[j],label=f'data_{j}')\n",
    "            _spec=np.array([_x,_y])\n",
    "            raw_data.append(_spec)\n",
    "        with open(f'{raw_path}/curve_{i}.pkl','wb')as f:\n",
    "            pkl.dump(raw_data,f)\n",
    "        plt.legend()\n",
    "        if fft:\n",
    "            plt.xlabel('k (Å$^{-1}$)')\n",
    "            plt.ylabel('Magnitude (a.u.)')\n",
    "        else:\n",
    "            plt.xlabel('Energy (eV)')\n",
    "            plt.ylabel('Intensity (a.u.)')\n",
    "        plt.title(f'Curve_{i}')\n",
    "        plt.savefig(f'{plot_path}/curve_{i}.png',bbox_inches='tight')\n",
    "        plt.clf()\n",
    "# save_plots(plot_path=f'{val_path}/plots/XANES',data=XANES,raw_path=f'{val_path}/raw_data/XANES')\n",
    "# save_plots(plot_path=f'{val_path}/plots/EXAFS',data=EXAFS,raw_path=f'{val_path}/raw_data/EXAFS',fft=True)"
   ]
  }
 ],
 "metadata": {
  "kernelspec": {
   "display_name": "Python 3",
   "language": "python",
   "name": "python3"
  },
  "language_info": {
   "codemirror_mode": {
    "name": "ipython",
    "version": 3
   },
   "file_extension": ".py",
   "mimetype": "text/x-python",
   "name": "python",
   "nbconvert_exporter": "python",
   "pygments_lexer": "ipython3",
   "version": "3.9.13"
  }
 },
 "nbformat": 4,
 "nbformat_minor": 2
}
